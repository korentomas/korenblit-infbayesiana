{
 "cells": [
  {
   "cell_type": "markdown",
   "id": "8f4b82a6-967b-44b5-b0e4-21a4422f89cf",
   "metadata": {},
   "source": [
    "---\n",
    "# Práctica 1: Especificación y evaluación de argumentos causales.\n",
    "Docente: Gustavo Landfried\n",
    "\n",
    "Inferencia Bayesiana Causal 1\n",
    "\n",
    "1er cuatrimestre 2025\n",
    "\n",
    "UNSAM\n",
    "\n",
    "Alumno: Tomás Pablo Korenblit\n",
    "\n",
    "----"
   ]
  },
  {
   "cell_type": "code",
   "execution_count": 1,
   "id": "44bcba1e-14a0-4f5e-a4b0-86f3fb307699",
   "metadata": {},
   "outputs": [],
   "source": [
    "import numpy as np\n",
    "import matplotlib.pyplot as plt\n",
    "import pandas as pd\n",
    "import os"
   ]
  },
  {
   "cell_type": "markdown",
   "id": "14da5761-58d5-4387-8f3e-caa617ef7721",
   "metadata": {},
   "source": [
    "---\n",
    "## 1.1 Definir distribuciones condicionales\n",
    "En esta sección, definimos varias distribuciones condicionales para los modelos que vamos a trabajar."
   ]
  },
  {
   "cell_type": "code",
   "execution_count": 2,
   "id": "09c58aa8-0474-4025-accb-e0d20e0bb8e5",
   "metadata": {},
   "outputs": [],
   "source": [
    "H = np.arange(3)  # Posibles valores para r, c, s (0,1,2)\n",
    "\n",
    "def pr(r): \n",
    "    \"\"\"Distribución marginal P(r) - igual para todos los modelos\"\"\"\n",
    "    return 1/3\n",
    "\n",
    "def pc(c): \n",
    "    \"\"\"Distribución marginal P(c) - igual para todos los modelos\"\"\"\n",
    "    return 1/3\n",
    "\n",
    "def ps_rM0(s, r):\n",
    "    \"\"\"P(s|r) para Modelo Base (M0)\"\"\"\n",
    "    return 0 if s == r else 1/2\n",
    "\n",
    "def ps_rcM1(s, r, c):\n",
    "    \"\"\"P(s|r,c) para Modelo Monty Hall (M1)\"\"\"\n",
    "    opciones_validas = [x for x in H if x != r and x != c]\n",
    "    return 1/len(opciones_validas) if s in opciones_validas else 0\n",
    "\n",
    "def prcs_M(r, c, s, m):\n",
    "    \"\"\"Distribución conjunta P(r,c,s|M)\"\"\"\n",
    "    if m == 0:  # Modelo Base\n",
    "        return pr(r) * pc(c) * ps_rM0(s, r)\n",
    "    else:       # Modelo Monty Hall\n",
    "        return pr(r) * pc(c) * ps_rcM1(s, r, c)\n",
    "\n",
    "def ps_cM(s, c, m):\n",
    "    \"\"\"Calcula P(s|c, M) = P(s, c|M) / P(c|M)\"\"\"\n",
    "    num = sum(prcs_M(r, c, s, m) for r in H)  # P(s, c|M)\n",
    "    den = sum(prcs_M(r, c, s_, m) for r in H for s_ in H)  # P(c|M)\n",
    "    return num / den if den > 0 else 0\n",
    "\n",
    "def pr_csM(r, c, s, m):\n",
    "    \"\"\"Calcula P(r|c, s, M) = P(r, c, s|M) / P(c, s|M)\"\"\"\n",
    "    num = prcs_M(r, c, s, m)\n",
    "    den = sum(prcs_M(r_, c, s, m) for r_ in H)\n",
    "    return num / den if den > 0 else 0\n",
    "\n",
    "def pEpisodio_M(c, s, r, m):\n",
    "    \"\"\"Calcula P(c, s, r|M) usando descomposición en condicionales\"\"\"\n",
    "    return pr_csM(r, c, s, m) * ps_cM(s, c, m) * pc(c)"
   ]
  },
  {
   "cell_type": "markdown",
   "id": "2f240e8f-5b1c-45c1-adf6-7412eaeee47f",
   "metadata": {},
   "source": [
    "---\n",
    "## 1.2 Simular datos con modelo Monty Hall\n",
    "Aquí simulamos datos usando el modelo Monty Hall."
   ]
  },
  {
   "cell_type": "code",
   "execution_count": 3,
   "id": "36f5d9fd-14d0-4fae-b844-7a6d7906949d",
   "metadata": {},
   "outputs": [],
   "source": [
    "def simular_datos(T=16, semilla=0):\n",
    "    \"\"\"Genera datos según el modelo Monty Hall (M1)\"\"\"\n",
    "    np.random.seed(semilla)\n",
    "    datos = []\n",
    "    for _ in range(T):\n",
    "        r = np.random.choice(3, p=[pr(h) for h in H])\n",
    "        c = np.random.choice(3, p=[pc(h) for h in H])\n",
    "        probs_h = [ps_rcM1(h, r, c) for h in H]\n",
    "        s = np.random.choice(3, p=probs_h)\n",
    "        datos.append((c, s, r))\n",
    "    return datos\n",
    "\n",
    "datos = simular_datos(T=16, semilla=0)"
   ]
  },
  {
   "cell_type": "markdown",
   "id": "2a763981-9dd4-4989-ae3f-fd5f3638552f",
   "metadata": {},
   "source": [
    "---\n",
    "## 1.3 Predicción a priori de cada modelo\n",
    "En esta sección se calcula la probabilidad de cada modelo antes de observar los datos.\n"
   ]
  },
  {
   "cell_type": "code",
   "execution_count": 4,
   "id": "afd34df5-df70-4ffb-b6d0-63f22f24a298",
   "metadata": {},
   "outputs": [],
   "source": [
    "def _secuencia_de_predicciones(datos, m):\n",
    "    if m in [0, 1]:\n",
    "        return [pEpisodio_M(c, s, r, m) for c, s, r in datos]\n",
    "    if m == \"a\":\n",
    "        return [pEpisodio_datosMa((c, s, r), datos) for c, s, r in datos]\n",
    "    raise ValueError(\"Modelo no reconocido\")\n",
    "\n",
    "def pdatos_M(datos, m, log=False):\n",
    "    \"\"\"Calcula P(datos|M) para un modelo específico\"\"\"\n",
    "    if log:\n",
    "        return np.sum(np.log10(_secuencia_de_predicciones(datos, m)))\n",
    "    else:\n",
    "        return np.prod(_secuencia_de_predicciones(datos, m))"
   ]
  },
  {
   "cell_type": "markdown",
   "id": "1085e777-7f7e-4632-b8bf-b9a3bf94cf01",
   "metadata": {},
   "source": [
    "---\n",
    "## 1.4 Predicción con contribución de todos los modelos\n",
    "En esta sección sumamos la contribución de todos los modelos posibles.\n"
   ]
  },
  {
   "cell_type": "code",
   "execution_count": 5,
   "id": "6c6b4f6b-615e-48b2-9743-d496215e1809",
   "metadata": {},
   "outputs": [],
   "source": [
    "def pM(m, alt=False):\n",
    "    # Prior de los modelos\n",
    "    return 1 / 3 if alt else 0.5\n",
    "\n",
    "def pdatos(datos, alt=False):\n",
    "    # sum_m P(datos,M=m)\n",
    "    modelos = [0, 1, \"a\"] if alt else [0, 1]\n",
    "    return sum([pdatos_M(datos, m) * pM(m, alt) for m in modelos])"
   ]
  },
  {
   "cell_type": "markdown",
   "id": "563448e6-0fdd-404c-a26a-79fb83610804",
   "metadata": {},
   "source": [
    "---\n",
    "## 1.5 Posterior de los modelos\n",
    "Aquí calculamos la probabilidad posterior de cada modelo dado los datos observados."
   ]
  },
  {
   "cell_type": "code",
   "execution_count": 6,
   "id": "d4d5ef10-6cb4-4cba-bb69-db93b55cd28a",
   "metadata": {},
   "outputs": [],
   "source": [
    "def pM_datos(m, datos, alt=False):\n",
    "    # P(M|datos)\n",
    "    return (\n",
    "        pdatos_M(datos, m)\n",
    "        * pM(m, alt)\n",
    "        / pdatos(datos, alt)\n",
    "    )"
   ]
  },
  {
   "cell_type": "markdown",
   "id": "d689c067-a79c-4c7f-a8b6-53f1b459cdbe",
   "metadata": {},
   "source": [
    "## 1.6 Graficar evolución del posterior\n",
    "En esta sección graficamos cómo cambia la probabilidad posterior a medida que se van observando más episodios.\n"
   ]
  },
  {
   "cell_type": "code",
   "execution_count": 7,
   "id": "11af9353-dfcf-4e61-a292-be661c56d7d4",
   "metadata": {},
   "outputs": [
    {
     "data": {
      "image/png": "[encoded data removed]",
      "text/plain": [
       "<Figure size 1000x600 with 1 Axes>"
      ]
     },
     "metadata": {},
     "output_type": "display_data"
    }
   ],
   "source": [
    "def lista_pM_datos(m, datos, alt=False):\n",
    "    # [P(M | (c0,s0,r0) ), P(M | (c0,s0,r0),(c1,s1,r1) ), ... ]\n",
    "    return [\n",
    "        pM_datos(m, datos[:t], alt) for t in range(0, len(datos))\n",
    "    ]\n",
    "    \n",
    "plt.figure(figsize=(10,6))\n",
    "plt.plot(lista_pM_datos(m=0, datos=datos), label=\"M0: Base\")\n",
    "plt.plot(lista_pM_datos(m=1, datos=datos), label=\"M1: Monty Hall\")\n",
    "plt.xlabel('Número de episodios'), plt.ylabel('P(M|datos)')\n",
    "plt.legend()\n",
    "plt.title('Evolución del Posterior')\n",
    "plt.show()"
   ]
  },
  {
   "cell_type": "markdown",
   "id": "093f386b-9394-440c-b8d7-79414a9f7d28",
   "metadata": {},
   "source": [
    "---\n",
    "## 2.1 Posterior sobre probabilidad p (Modelo Alternativo)\n",
    "En esta sección definimos las funciones para trabajar con el modelo alternativo y cargamos los datos reales desde el archivo CSV `nomontyhall.csv`."
   ]
  },
  {
   "cell_type": "code",
   "execution_count": 8,
   "id": "bb97400f-e069-40d0-a90f-da88f1abb13e",
   "metadata": {},
   "outputs": [],
   "source": [
    "def pa_p(a_t, p):\n",
    "    return p if a_t else 1 - p\n",
    "\n",
    "def pcst_p(c_t, s_t, r_t, p):\n",
    "    output = 0\n",
    "    for a_t in [0, 1]:\n",
    "        if a_t == 0:\n",
    "            output += pr(r_t) * pc(c_t) * pa_p(a_t, p) * ps_rM0(s_t, r_t)\n",
    "        if a_t == 1:\n",
    "            output += pr(r_t) * pc(c_t) * pa_p(a_t, p) * ps_rcM1(s_t, r_t, c_t)\n",
    "    return output\n",
    "\n",
    "def pp(p):\n",
    "    if p < 0 or p > 1:\n",
    "        return 0\n",
    "    return 1\n",
    "\n",
    "def pp_datos(p, datos):\n",
    "    num = np.prod([pcst_p(c_t, s_t, r_t, p) for c_t, s_t, r_t in datos]) * pp(p)\n",
    "    den = sum(\n",
    "        np.prod([pcst_p(c_t, s_t, r_t, _p) for c_t, s_t, r_t in datos]) * pp(_p)\n",
    "        for _p in np.linspace(0, 1, 11)\n",
    "    )\n",
    "    if num == 0:\n",
    "        return 0\n",
    "    return num / den\n",
    "\n",
    "# Cargar NoMontyHall.csv\n",
    "current_dir = os.path.dirname(os.path.abspath(''))\n",
    "csv_path = os.path.join(current_dir, \"data\", \"NoMontyHall.csv\")\n",
    "datos_reales = pd.read_csv(csv_path)[:20].to_numpy()"
   ]
  },
  {
   "cell_type": "markdown",
   "id": "40a0c2ef-31dd-45a0-aa1a-c0da60d0404e",
   "metadata": {},
   "source": [
    "---\n",
    "## 2.2 Predicción de episodio dado datos anteriores\n",
    "Aquí calculamos la probabilidad de un episodio dado los datos anteriores."
   ]
  },
  {
   "cell_type": "code",
   "execution_count": 9,
   "id": "6683e2aa-e53e-419d-a365-3b224fd1c123",
   "metadata": {},
   "outputs": [],
   "source": [
    "def pEpisodio_datosMa(Episodio, datos):\n",
    "    cT, sT, rT = Episodio\n",
    "    posterior_prob = 0\n",
    "    for p in np.linspace(0, 1, 11):\n",
    "        posterior_prob += pcst_p(cT, sT, rT, p) * pp_datos(p, datos)\n",
    "    return posterior_prob"
   ]
  },
  {
   "cell_type": "markdown",
   "id": "c85e9982-edd3-4a64-af8c-dac4cb1d4b5c",
   "metadata": {},
   "source": [
    "---\n",
    "## 2.3 Predicción completa del modelo alternativo\n",
    "En esta sección calculamos la predicción completa para el modelo alternativo."
   ]
  },
  {
   "cell_type": "code",
   "execution_count": 10,
   "id": "c5a46ffe-a73f-4e68-9505-a75ffe6f5752",
   "metadata": {},
   "outputs": [],
   "source": [
    "# Esto podría ser agregado más tarde si es necesario en el análisis."
   ]
  },
  {
   "cell_type": "markdown",
   "id": "b9438aff-12e8-4957-884e-e7a03244c030",
   "metadata": {},
   "source": [
    "## 2.4 Comparación de desempeño (log Bayes Factor)\n",
    "Aquí comparamos los modelos mediante el logaritmo del Bayes factor."
   ]
  },
  {
   "cell_type": "code",
   "execution_count": 11,
   "id": "c8136953-d58b-4b3c-9d46-793b20ce1865",
   "metadata": {},
   "outputs": [
    {
     "name": "stdout",
     "output_type": "stream",
     "text": [
      "Logaritmo de P(datos|M0): -2.51055e+01\n",
      "Logaritmo de P(datos|M1): -inf\n",
      "Logaritmo de P(datos|MA): -2.33407e+01\n"
     ]
    },
    {
     "name": "stderr",
     "output_type": "stream",
     "text": [
      "/var/folders/sm/x55wx2_x691c2_y5vd95x3cr0000gn/T/ipykernel_41614/484219784.py:11: RuntimeWarning: divide by zero encountered in log10\n",
      "  return np.sum(np.log10(_secuencia_de_predicciones(datos, m)))\n"
     ]
    }
   ],
   "source": [
    "def log_Bayes_factor(log_pdatos_Mi, log_pdatos_Mj):\n",
    "    return log_pdatos_Mi - log_pdatos_Mj\n",
    "\n",
    "log_pdatos_M0 = pdatos_M(datos_reales, m=0, log=True)\n",
    "print(f\"Logaritmo de P(datos|M0): {log_pdatos_M0:.5e}\")\n",
    "\n",
    "log_pdatos_M1 = pdatos_M(datos_reales, m=1, log=True)\n",
    "print(f\"Logaritmo de P(datos|M1): {log_pdatos_M1:.5e}\")\n",
    "\n",
    "log_pdatos_MA = pdatos_M(datos_reales, m=\"a\", log=True)\n",
    "print(f\"Logaritmo de P(datos|MA): {log_pdatos_MA:.5e}\")"
   ]
  },
  {
   "cell_type": "markdown",
   "id": "e608583b-4378-4996-98b6-c53202d48671",
   "metadata": {},
   "source": [
    "---\n",
    "## 2.5 Predicción típica (media geométrica)\n",
    "En esta sección, calculamos la media geométrica de las predicciones de los datos."
   ]
  },
  {
   "cell_type": "code",
   "execution_count": 14,
   "id": "d24f291d-ecc1-4cd6-9cbc-b533622d88ed",
   "metadata": {},
   "outputs": [
    {
     "name": "stdout",
     "output_type": "stream",
     "text": [
      "Logaritmo de la media geométrica de las predicciones de los datos para M0:  -1.2552725051033062\n",
      "Logaritmo de la media geométrica de las predicciones de los datos para M1:  -inf\n",
      "Logaritmo de la media geométrica de las predicciones de los datos para MA:  -1.1670343358502975\n"
     ]
    },
    {
     "name": "stderr",
     "output_type": "stream",
     "text": [
      "/var/folders/sm/x55wx2_x691c2_y5vd95x3cr0000gn/T/ipykernel_41614/3830795717.py:3: RuntimeWarning: divide by zero encountered in log10\n",
      "  return np.mean(np.log10(_secuencia_de_predicciones(datos, m)))\n"
     ]
    }
   ],
   "source": [
    "def geometric_mean(datos, m, log=False):\n",
    "    if log:\n",
    "        return np.mean(np.log10(_secuencia_de_predicciones(datos, m)))\n",
    "    return np.prod(_secuencia_de_predicciones(datos, m)) ** (1 / len(datos))\n",
    "\n",
    "print(\n",
    "    \"Logaritmo de la media geométrica de las predicciones de los datos para M0: \",\n",
    "    geometric_mean(datos_reales, m=0, log=True),\n",
    ")\n",
    "print(\n",
    "    \"Logaritmo de la media geométrica de las predicciones de los datos para M1: \",\n",
    "    geometric_mean(datos_reales, m=1, log=True),\n",
    ")\n",
    "\n",
    "print(\n",
    "    \"Logaritmo de la media geométrica de las predicciones de los datos para MA: \",\n",
    "    geometric_mean(datos_reales, m=\"a\", log=True),\n",
    ")\n"
   ]
  },
  {
   "cell_type": "markdown",
   "id": "49a48280-14d4-4c49-9316-9a5bd166e152",
   "metadata": {},
   "source": [
    "---\n",
    "## 2.6 Graficar posteriores para primeros episodios\n",
    "Aquí graficamos cómo evoluciona el posterior para los primeros episodios con los tres modelos.\n"
   ]
  },
  {
   "cell_type": "code",
   "execution_count": 15,
   "id": "571c13ae-ea3b-4fb8-82f3-92e8bedd0979",
   "metadata": {},
   "outputs": [
    {
     "data": {
      "image/png": "[encoded data removed]",
      "text/plain": [
       "<Figure size 640x480 with 1 Axes>"
      ]
     },
     "metadata": {},
     "output_type": "display_data"
    }
   ],
   "source": [
    "plt.plot(\n",
    "    lista_pM_datos(m=0, datos=datos_reales, alt=True),\n",
    "    label=\"M0: Base\",\n",
    ")\n",
    "plt.plot(\n",
    "    lista_pM_datos(m=1, datos=datos_reales, alt=True),\n",
    "    label=\"M1: Monty Hall\",\n",
    ")\n",
    "plt.plot(\n",
    "    lista_pM_datos(m=\"a\", datos=datos_reales, alt=True),\n",
    "    label=\"MA: Modelo Alternativo\",\n",
    ")\n",
    "plt.legend()\n",
    "plt.show()"
   ]
  },
  {
   "cell_type": "code",
   "execution_count": null,
   "id": "d940e4c0-3d05-49ce-9548-6b648f3b25c1",
   "metadata": {},
   "outputs": [],
   "source": []
  }
 ],
 "metadata": {
  "kernelspec": {
   "display_name": "Python 3 (ipykernel)",
   "language": "python",
   "name": "python3"
  },
  "language_info": {
   "codemirror_mode": {
    "name": "ipython",
    "version": 3
   },
   "file_extension": ".py",
   "mimetype": "text/x-python",
   "name": "python",
   "nbconvert_exporter": "python",
   "pygments_lexer": "ipython3",
   "version": "3.11.8"
  }
 },
 "nbformat": 4,
 "nbformat_minor": 5
}
